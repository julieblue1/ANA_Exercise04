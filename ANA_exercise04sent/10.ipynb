{
 "cells": [
  {
   "attachments": {},
   "cell_type": "markdown",
   "metadata": {},
   "source": [
    "EXERCISE 10"
   ]
  },
  {
   "attachments": {},
   "cell_type": "markdown",
   "metadata": {},
   "source": [
    "(a) Write a program that transforms a given input matrix to upper Hessenberg form using Householder matrices."
   ]
  },
  {
   "cell_type": "code",
   "execution_count": 172,
   "metadata": {},
   "outputs": [],
   "source": [
    "import numpy as np\n",
    "import matplotlib as mpl\n",
    "import matplotlib.pyplot as plt\n",
    "import math"
   ]
  },
  {
   "cell_type": "code",
   "execution_count": 173,
   "metadata": {},
   "outputs": [
    {
     "name": "stdout",
     "output_type": "stream",
     "text": [
      "[[13.  4.  3.  9.]\n",
      " [-1. -8.  5.  0.]\n",
      " [ 2.  3.  8.  1.]\n",
      " [ 6. -2.  0.  4.]]\n"
     ]
    }
   ],
   "source": [
    "A = np.array([[float(13),float(4),float(3),float(9)],\n",
    "              [float(-1),float(-8),float(5),float(0)],\n",
    "              [float(2),float(3),float(8),float(1)],\n",
    "              [float(6),float(-2),float(0),float(4)]])\n",
    "print(A)"
   ]
  },
  {
   "attachments": {},
   "cell_type": "markdown",
   "metadata": {},
   "source": [
    "Check the following two algorithms"
   ]
  },
  {
   "cell_type": "code",
   "execution_count": 174,
   "metadata": {},
   "outputs": [],
   "source": [
    "def vhouse(x):\n",
    "    n = len(x)\n",
    "    x = x/np.linalg.norm(x,2)\n",
    "    s = float(np.transpose(x[1:n])@x[1:n])\n",
    "    v = np.array([[1]])\n",
    "    v = np.append(v,x[1:n])   \n",
    "    if s == 0:\n",
    "        beta = 0\n",
    "    else: \n",
    "        mu = math.sqrt(math.pow(x[0],2)+s)\n",
    "        if x[0] <= 0:\n",
    "            v[0] = x[0] - mu\n",
    "        else:\n",
    "            v[0] = (-s)/(x[0]+mu)\n",
    "        beta = 2*math.pow(v[0],2)/(s+math.pow(v[0],2))\n",
    "        v = v/v[0]\n",
    "    return np.transpose(v), beta"
   ]
  },
  {
   "cell_type": "code",
   "execution_count": 175,
   "metadata": {},
   "outputs": [],
   "source": [
    "def houshess(A):\n",
    "    n = max(np.shape(A))\n",
    "    Q = np.identity(n)\n",
    "    H = A.copy()\n",
    "    for k in range(n-2):\n",
    "        v, beta = vhouse(H[(k+1):n,k])\n",
    "        #print(v,beta)\n",
    "        v = v[:,np.newaxis]\n",
    "        I = np.identity(k+1)\n",
    "        N = np.zeros((k+1,n-(k+1)))\n",
    "        m = len(v)\n",
    "        #print(beta*v@np.transpose(v))\n",
    "        R = np.identity(m) - beta*v@np.transpose(v)\n",
    "        #print(R)\n",
    "        #print(v)\n",
    "        #print(R@H[(k+1):n,k:n])\n",
    "        H[(k+1):n,k:n] = R@H[(k+1):n,k:n]    #star\n",
    "        H[0:n,(k+1):n] = H[0:n,(k+1):n]@R\n",
    "        P = np.block([[I,N],[np.transpose(N),R]])\n",
    "        Q = Q@P\n",
    "\n",
    "    return H, Q"
   ]
  },
  {
   "cell_type": "code",
   "execution_count": 176,
   "metadata": {},
   "outputs": [
    {
     "name": "stdout",
     "output_type": "stream",
     "text": [
      "[[ 0.00000000e+00 -8.88178420e-16  1.77635684e-15 -1.77635684e-15]\n",
      " [-8.88178420e-16  7.10542736e-15  0.00000000e+00  0.00000000e+00]\n",
      " [ 1.33226763e-15  0.00000000e+00  0.00000000e+00  8.88178420e-16]\n",
      " [-1.77635684e-15  4.44089210e-16 -3.33066907e-16 -2.22044605e-15]]\n",
      "[[ 0.00000000e+00  0.00000000e+00  0.00000000e+00  0.00000000e+00]\n",
      " [ 0.00000000e+00  1.66533454e-16 -5.55111512e-17  0.00000000e+00]\n",
      " [ 0.00000000e+00 -2.22044605e-16  1.66533454e-16  4.33680869e-17]\n",
      " [ 0.00000000e+00  3.33066907e-16 -2.22044605e-16  5.55111512e-17]]\n",
      "[[ 1.30000000e+01  8.74573067e+00  4.98278706e+00 -2.16426158e+00]\n",
      " [ 6.40312424e+00  4.29268293e+00  1.05031935e+00 -7.92963925e-02]\n",
      " [ 0.00000000e+00  3.84291494e+00 -2.07886621e+00  8.93069199e+00]\n",
      " [ 1.55431223e-15  4.44089210e-16  7.83747565e+00  1.78618328e+00]]\n"
     ]
    }
   ],
   "source": [
    "H, Q = houshess(A)\n",
    "print(Q@H@np.transpose(Q)-A)\n",
    "print(np.transpose(Q)-np.linalg.inv(Q))\n",
    "print(H)"
   ]
  },
  {
   "attachments": {},
   "cell_type": "markdown",
   "metadata": {},
   "source": [
    "H is upper Hessenberg and Q is orthogonal. Also it holds that Q^T@A@Q=H."
   ]
  },
  {
   "cell_type": "code",
   "execution_count": 177,
   "metadata": {},
   "outputs": [
    {
     "name": "stdout",
     "output_type": "stream",
     "text": [
      "[[4. 3. 2. 1.]\n",
      " [3. 4. 3. 2.]\n",
      " [2. 3. 4. 3.]\n",
      " [1. 2. 3. 4.]]\n"
     ]
    }
   ],
   "source": [
    "B = np.array([[float(4),float(3),float(2),float(1)],\n",
    "              [float(3),float(4),float(3),float(2)],\n",
    "              [float(2),float(3),float(4),float(3)],\n",
    "              [float(1),float(2),float(3),float(4)]])\n",
    "print(B)"
   ]
  },
  {
   "cell_type": "code",
   "execution_count": 178,
   "metadata": {},
   "outputs": [
    {
     "name": "stdout",
     "output_type": "stream",
     "text": [
      "[[ 0.00000000e+00 -8.88178420e-16 -2.22044605e-16 -1.11022302e-16]\n",
      " [-8.88178420e-16 -8.88178420e-16 -4.44089210e-16  0.00000000e+00]\n",
      " [-2.22044605e-16 -8.88178420e-16 -4.44089210e-16 -4.44089210e-16]\n",
      " [-1.11022302e-16 -2.22044605e-16  0.00000000e+00  8.88178420e-16]]\n",
      "[[ 0.00000000e+00  0.00000000e+00  0.00000000e+00  0.00000000e+00]\n",
      " [ 0.00000000e+00 -1.11022302e-16 -1.11022302e-16  1.11022302e-16]\n",
      " [ 0.00000000e+00  5.55111512e-17  0.00000000e+00  1.11022302e-16]\n",
      " [ 0.00000000e+00 -5.55111512e-17  1.11022302e-16  0.00000000e+00]]\n",
      "[[4.00000000e+00 3.74165739e+00 0.00000000e+00 0.00000000e+00]\n",
      " [3.74165739e+00 8.28571429e+00 2.60298102e+00 0.00000000e+00]\n",
      " [0.00000000e+00 2.60298102e+00 3.03958692e+00 2.25401047e-01]\n",
      " [0.00000000e+00 5.55111512e-17 2.25401047e-01 6.74698795e-01]]\n"
     ]
    }
   ],
   "source": [
    "Hb, Qb = houshess(B)\n",
    "print(Qb@Hb@np.transpose(Qb)-B)\n",
    "print(np.transpose(Qb)-np.linalg.inv(Qb))\n",
    "print(Hb)"
   ]
  },
  {
   "attachments": {},
   "cell_type": "markdown",
   "metadata": {},
   "source": [
    "The matrix B is symmetric and the householder transformation maintains that property. This means that (as observed) Hb is symmetric as well and tridiagonal. The algorithm can be adapted to this problem by simplifying the matrix multiplication #star by only calculating the upper (or lower) part of the matrix and then simply flipping the matrix as each of the iterations is symmetric again. This saves computational cost through the matrix multiplication."
   ]
  }
 ],
 "metadata": {
  "kernelspec": {
   "display_name": "base",
   "language": "python",
   "name": "python3"
  },
  "language_info": {
   "codemirror_mode": {
    "name": "ipython",
    "version": 3
   },
   "file_extension": ".py",
   "mimetype": "text/x-python",
   "name": "python",
   "nbconvert_exporter": "python",
   "pygments_lexer": "ipython3",
   "version": "3.10.9"
  },
  "orig_nbformat": 4
 },
 "nbformat": 4,
 "nbformat_minor": 2
}
