{
 "cells": [
  {
   "attachments": {},
   "cell_type": "markdown",
   "metadata": {},
   "source": [
    "EXERCISE 10"
   ]
  },
  {
   "attachments": {},
   "cell_type": "markdown",
   "metadata": {},
   "source": [
    "(a) Write a program that transforms a given input matrix to upper Hessenberg form using Householder matrices."
   ]
  },
  {
   "cell_type": "code",
   "execution_count": 290,
   "metadata": {},
   "outputs": [],
   "source": [
    "import numpy as np\n",
    "import matplotlib as mpl\n",
    "import matplotlib.pyplot as plt\n",
    "import math"
   ]
  },
  {
   "cell_type": "code",
   "execution_count": 291,
   "metadata": {},
   "outputs": [
    {
     "name": "stdout",
     "output_type": "stream",
     "text": [
      "[[13  4  3  9]\n",
      " [-1 -8  5  0]\n",
      " [ 2  3  8  1]\n",
      " [ 6 -2  0  4]]\n"
     ]
    }
   ],
   "source": [
    "A = np.array([[13,4,3,9],[-1,-8,5,0],[2,3,8,1],[6,-2,0,4]])\n",
    "print(A)"
   ]
  },
  {
   "attachments": {},
   "cell_type": "markdown",
   "metadata": {},
   "source": [
    "Check the following two algorithms"
   ]
  },
  {
   "cell_type": "code",
   "execution_count": 292,
   "metadata": {},
   "outputs": [],
   "source": [
    "def vhouse(x):\n",
    "    n = len(x)\n",
    "    x = x/np.linalg.norm(x,2)\n",
    "    s = np.float(np.transpose(x[1:n])@x[1:n])\n",
    "    v = np.array([[1]])\n",
    "    v = np.append(v,x[1:n])   \n",
    "    if s == 0:\n",
    "        beta = 0\n",
    "    else: \n",
    "        mu = math.sqrt(math.pow(x[0],2)+s)\n",
    "        if x[0] <= 0:\n",
    "            v[0] = x[0] - mu\n",
    "        else:\n",
    "            v[0] = (-s)/(x[0]+mu)\n",
    "        beta = 2*math.pow(v[0],2)/(s+math.pow(v[0],2))\n",
    "        v = v/v[0]\n",
    "    return np.transpose(v), beta"
   ]
  },
  {
   "cell_type": "code",
   "execution_count": 293,
   "metadata": {},
   "outputs": [
    {
     "name": "stdout",
     "output_type": "stream",
     "text": [
      "[ 1.         -0.27015621 -0.81046864]\n",
      "1.156173761888606\n"
     ]
    },
    {
     "name": "stderr",
     "output_type": "stream",
     "text": [
      "/var/folders/1z/q6prr8vx16186b_fkgsq8fcw0000gp/T/ipykernel_25101/2049448725.py:4: DeprecationWarning: `np.float` is a deprecated alias for the builtin `float`. To silence this warning, use `float` by itself. Doing this will not modify any behavior and is safe. If you specifically wanted the numpy scalar type, use `np.float64` here.\n",
      "Deprecated in NumPy 1.20; for more details and guidance: https://numpy.org/devdocs/release/1.20.0-notes.html#deprecations\n",
      "  s = np.float(np.transpose(x[1:n])@x[1:n])\n"
     ]
    }
   ],
   "source": [
    "v, beta = vhouse(np.array([-1,2,6]))\n",
    "print(v)\n",
    "print(beta)"
   ]
  },
  {
   "cell_type": "code",
   "execution_count": 294,
   "metadata": {},
   "outputs": [],
   "source": [
    "def houshess(A):\n",
    "    n = max(np.shape(A))\n",
    "    Q = np.identity(n)\n",
    "    H = A.copy()\n",
    "    for k in range(n-2):\n",
    "        v, beta = vhouse(H[(k+1):n,k])\n",
    "        #print(v,beta)\n",
    "        v = v[:,np.newaxis]\n",
    "        I = np.identity(k+1)\n",
    "        N = np.zeros((k+1,n-(k+1)))\n",
    "        m = len(v)\n",
    "        #print(beta*v@np.transpose(v))\n",
    "        R = np.identity(m) - beta*v@np.transpose(v)\n",
    "        #print(R)\n",
    "        #print(v)\n",
    "        print(R@H[(k+1):n,k:n])\n",
    "        H[(k+1):n,k:n] = R@H[(k+1):n,k:n]\n",
    "        print(H[(k+1):n,k:n])\n",
    "        H[0:n,(k+1):n] = H[0:n,(k+1):n]@R\n",
    "        P = np.block([[I,N],[np.transpose(N),R]])\n",
    "        Q = Q@P\n",
    "\n",
    "    return H, Q\n"
   ]
  },
  {
   "cell_type": "code",
   "execution_count": 295,
   "metadata": {},
   "outputs": [
    {
     "name": "stdout",
     "output_type": "stream",
     "text": [
      "[[8.06225775e+00 9.42663983e+00 1.07910219e+01]\n",
      " [8.88178420e-16 3.72104204e-01 7.44208408e-01]]\n",
      "[[ 8  9 10]\n",
      " [ 0  0  0]]\n"
     ]
    },
    {
     "name": "stderr",
     "output_type": "stream",
     "text": [
      "/var/folders/1z/q6prr8vx16186b_fkgsq8fcw0000gp/T/ipykernel_25101/2049448725.py:4: DeprecationWarning: `np.float` is a deprecated alias for the builtin `float`. To silence this warning, use `float` by itself. Doing this will not modify any behavior and is safe. If you specifically wanted the numpy scalar type, use `np.float64` here.\n",
      "Deprecated in NumPy 1.20; for more details and guidance: https://numpy.org/devdocs/release/1.20.0-notes.html#deprecations\n",
      "  s = np.float(np.transpose(x[1:n])@x[1:n])\n"
     ]
    }
   ],
   "source": [
    "C = np.array([[1,2,3],[4,5,6],[7,8,9]])\n",
    "h, q = houshess(C)\n",
    "#print(h)"
   ]
  },
  {
   "cell_type": "code",
   "execution_count": 296,
   "metadata": {},
   "outputs": [
    {
     "name": "stdout",
     "output_type": "stream",
     "text": [
      "[[ 6.40312424e+00  3.12347524e-01  1.71791138e+00  4.06051781e+00]\n",
      " [ 0.00000000e+00  7.54367681e-01  8.88667663e+00 -9.69741095e-02]\n",
      " [ 1.55431223e-15 -8.73689696e+00  2.66002989e+00  7.09077671e-01]]\n",
      "[[ 6  0  1  4]\n",
      " [ 0  0  8  0]\n",
      " [ 0 -8  2  0]]\n",
      "[[ 2.23606798e+00  6.26099034e+00 -5.36656315e+00]\n",
      " [-1.11022302e-16  3.13049517e+00  6.26099034e+00]]\n",
      "[[ 2  6 -5]\n",
      " [ 0  3  6]]\n",
      "[[ 1.30000000e+01  8.74573067e+00  3.84136663e+00 -3.84136663e+00]\n",
      " [ 6.40312424e+00  4.29268293e+00  9.47993943e-01 -4.59092736e-01]\n",
      " [ 1.11022302e-15  3.57496468e+00  4.16405436e+00  7.99294963e+00]\n",
      " [-1.33226763e-15 -1.40983076e+00  6.89973330e+00 -4.45673729e+00]]\n",
      "[[13  8  3 -4]\n",
      " [ 6  4  0  0]\n",
      " [ 0  2  3  7]\n",
      " [ 0  0  5 -4]]\n"
     ]
    },
    {
     "name": "stderr",
     "output_type": "stream",
     "text": [
      "/var/folders/1z/q6prr8vx16186b_fkgsq8fcw0000gp/T/ipykernel_25101/2049448725.py:4: DeprecationWarning: `np.float` is a deprecated alias for the builtin `float`. To silence this warning, use `float` by itself. Doing this will not modify any behavior and is safe. If you specifically wanted the numpy scalar type, use `np.float64` here.\n",
      "Deprecated in NumPy 1.20; for more details and guidance: https://numpy.org/devdocs/release/1.20.0-notes.html#deprecations\n",
      "  s = np.float(np.transpose(x[1:n])@x[1:n])\n"
     ]
    }
   ],
   "source": [
    "H, Q = houshess(A)\n",
    "print(np.transpose(Q)@A@Q)\n",
    "print(H)"
   ]
  },
  {
   "cell_type": "code",
   "execution_count": 297,
   "metadata": {},
   "outputs": [
    {
     "name": "stdout",
     "output_type": "stream",
     "text": [
      "[[8.06225775e+00 9.42663983e+00 1.07910219e+01]\n",
      " [8.88178420e-16 3.72104204e-01 7.44208408e-01]]\n",
      "[[ 8  9 10]\n",
      " [ 0  0  0]]\n",
      "[[ 1  3  0]\n",
      " [ 8 13  2]\n",
      " [ 0  0  0]]\n"
     ]
    },
    {
     "name": "stderr",
     "output_type": "stream",
     "text": [
      "/var/folders/1z/q6prr8vx16186b_fkgsq8fcw0000gp/T/ipykernel_25101/2049448725.py:4: DeprecationWarning: `np.float` is a deprecated alias for the builtin `float`. To silence this warning, use `float` by itself. Doing this will not modify any behavior and is safe. If you specifically wanted the numpy scalar type, use `np.float64` here.\n",
      "Deprecated in NumPy 1.20; for more details and guidance: https://numpy.org/devdocs/release/1.20.0-notes.html#deprecations\n",
      "  s = np.float(np.transpose(x[1:n])@x[1:n])\n"
     ]
    }
   ],
   "source": [
    "C = np.array([[1,2,3],[4,5,6],[7,8,9]])\n",
    "h, q = houshess(C)\n",
    "print(h)"
   ]
  },
  {
   "cell_type": "code",
   "execution_count": 298,
   "metadata": {},
   "outputs": [],
   "source": [
    "def householder(A):\n",
    "    (n,m)=A.shape\n",
    "    p=min(n,m)\n",
    "    alpha=np.zeros(m)\n",
    "    for j in range(0,p):\n",
    "        alpha[j]=np.linalg.norm(A[j:,j])*np.sign(A[j,j])\n",
    "        if (alpha[j]!=0):\n",
    "            beta=1/math.sqrt(2*alpha[j]*(alpha[j]+A[j,j]))\n",
    "            A[j,j]=beta*(A[j,j]+alpha[j])\n",
    "            A[j+1:,j]=beta*A[j+1:,j]\n",
    "            for k in range(j+1,m):\n",
    "                gamma=2*A[j:,j].dot(A[j:,k])\n",
    "                A[j:,k]=A[j:,k]-gamma*A[j:,j]\n",
    "    return A,alpha"
   ]
  },
  {
   "cell_type": "code",
   "execution_count": 299,
   "metadata": {},
   "outputs": [
    {
     "name": "stdout",
     "output_type": "stream",
     "text": [
      "[[ 0  4  3  9]\n",
      " [ 0  0  5  0]\n",
      " [ 0  0  1 -1]\n",
      " [ 0  0  0  1]]\n"
     ]
    }
   ],
   "source": [
    "  b, a = householder(A)\n",
    "print(b)"
   ]
  }
 ],
 "metadata": {
  "kernelspec": {
   "display_name": "base",
   "language": "python",
   "name": "python3"
  },
  "language_info": {
   "codemirror_mode": {
    "name": "ipython",
    "version": 3
   },
   "file_extension": ".py",
   "mimetype": "text/x-python",
   "name": "python",
   "nbconvert_exporter": "python",
   "pygments_lexer": "ipython3",
   "version": "3.10.9"
  },
  "orig_nbformat": 4
 },
 "nbformat": 4,
 "nbformat_minor": 2
}
