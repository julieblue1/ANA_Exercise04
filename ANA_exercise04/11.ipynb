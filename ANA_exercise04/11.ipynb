{
 "cells": [
  {
   "attachments": {},
   "cell_type": "markdown",
   "metadata": {},
   "source": [
    "EXERCISE 10"
   ]
  },
  {
   "cell_type": "code",
   "execution_count": 1,
   "metadata": {},
   "outputs": [],
   "source": [
    "import numpy as np\n",
    "import matplotlib as mpl\n",
    "import matplotlib.pyplot as plt\n",
    "import math"
   ]
  },
  {
   "attachments": {},
   "cell_type": "markdown",
   "metadata": {},
   "source": [
    "We need several different smaller programs for the overall computation."
   ]
  },
  {
   "attachments": {},
   "cell_type": "markdown",
   "metadata": {},
   "source": [
    "Computation of Givens cosine and sine"
   ]
  },
  {
   "cell_type": "code",
   "execution_count": 2,
   "metadata": {},
   "outputs": [],
   "source": [
    "def givcos(xi,xk):\n",
    "    if xk == 0: #xk should be a vector component\n",
    "        c = 1\n",
    "        s = 0\n",
    "    else: \n",
    "        if abs(xk) > abs(xi):\n",
    "            t = -xi/xk\n",
    "            s = 1/math.sqrt(1+math.pow(t,2))\n",
    "            c = s*t\n",
    "        else:\n",
    "            t = -xk/xi\n",
    "            c = 1/math.sqrt(1+math.pow(t,2))\n",
    "            s = c*t\n",
    "    return c, s"
   ]
  },
  {
   "attachments": {},
   "cell_type": "markdown",
   "metadata": {},
   "source": [
    "Product of G and M"
   ]
  },
  {
   "cell_type": "code",
   "execution_count": 10,
   "metadata": {},
   "outputs": [],
   "source": [
    "def garow(M,c,s,i,k,j1,j2): #check indices in the actual implementation\n",
    "    for j in np.arange(j1,j2+1):\n",
    "        t1 = M[i,j]\n",
    "        t2 = M[k,j]\n",
    "        M[i,j] = c*t1 - s*t2\n",
    "        M[k,j] = s*t1 + c*t2\n",
    "    return M"
   ]
  },
  {
   "attachments": {},
   "cell_type": "markdown",
   "metadata": {},
   "source": [
    "Product of M and G"
   ]
  },
  {
   "cell_type": "code",
   "execution_count": 11,
   "metadata": {},
   "outputs": [],
   "source": [
    "def gacol(M,c,s,j1,j2,i,k):\n",
    "    for j in np.arange(j1,j2+1):\n",
    "        t1 = M[j,i]\n",
    "        t2 = M[j,k]\n",
    "        M[j,i] = c*t1 - s*t2\n",
    "        M[j,k] = s*t1 + c*t2\n",
    "    return M"
   ]
  },
  {
   "attachments": {},
   "cell_type": "markdown",
   "metadata": {},
   "source": [
    "QR factorization with Givens rotations"
   ]
  },
  {
   "cell_type": "code",
   "execution_count": null,
   "metadata": {},
   "outputs": [],
   "source": [
    "def prodgiv(c,s,n):\n",
    "    n1 = n-1\n",
    "    n2 = n-2\n",
    "    Q = np.identity(n)\n",
    "    Q[n-2,n-2] = c[n-2]\n",
    "    Q[n-1,n-1] = c[n-2]\n",
    "    Q[n-2,n-1] = s[n-2]\n",
    "    Q[n-1,n-2] = -s[n-2]\n",
    "    for k in np.arange()\n",
    "    return Q"
   ]
  },
  {
   "cell_type": "code",
   "execution_count": 12,
   "metadata": {},
   "outputs": [],
   "source": [
    "def qrgivens(H):\n",
    "    m = np.shape(A)[0]\n",
    "    n = np.shape(A)[1]\n",
    "    for k in range(n-1):\n",
    "        c[k], s[k] = givcos(H[k,k],H[k+1,k]) #do we have do define c and s as lists?\n",
    "        H = garow(H,c[k],s[k],k,(k+1),k,n)\n",
    "    R = H\n",
    "    Q = prodgiv(c,s,n)\n",
    "    return Q, R, c, s"
   ]
  },
  {
   "cell_type": "code",
   "execution_count": null,
   "metadata": {},
   "outputs": [],
   "source": [
    "def hessqr(A,niter):\n",
    "    n = max(np.shape(A))\n",
    "    T, Qhess = houshess(A)\n",
    "    for j in range(niter):\n",
    "        \n",
    "    return T, Q, R"
   ]
  }
 ],
 "metadata": {
  "kernelspec": {
   "display_name": "base",
   "language": "python",
   "name": "python3"
  },
  "language_info": {
   "codemirror_mode": {
    "name": "ipython",
    "version": 3
   },
   "file_extension": ".py",
   "mimetype": "text/x-python",
   "name": "python",
   "nbconvert_exporter": "python",
   "pygments_lexer": "ipython3",
   "version": "3.10.9"
  },
  "orig_nbformat": 4
 },
 "nbformat": 4,
 "nbformat_minor": 2
}
